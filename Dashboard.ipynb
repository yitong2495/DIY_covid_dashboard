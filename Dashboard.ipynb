{
 "cells": [
  {
   "cell_type": "markdown",
   "metadata": {},
   "source": [
    "# DIY Covid-19 Dashboard"
   ]
  },
  {
   "cell_type": "markdown",
   "metadata": {},
   "source": [
    "### This is a DIY Covid dashboard that shows the number of Covid cases and occupied beds in the hospital."
   ]
  },
  {
   "cell_type": "code",
   "execution_count": 46,
   "metadata": {},
   "outputs": [],
   "source": [
    "from IPython.display import clear_output\n",
    "import ipywidgets as wdg\n",
    "import pandas as pd\n",
    "import numpy as np\n",
    "import matplotlib.pyplot as plt\n",
    "import json\n",
    "from uk_covid19 import Cov19API"
   ]
  },
  {
   "cell_type": "code",
   "execution_count": 47,
   "metadata": {},
   "outputs": [],
   "source": [
    "%matplotlib inline\n",
    "plt.rcParams['figure.dpi'] = 100"
   ]
  },
  {
   "cell_type": "code",
   "execution_count": 48,
   "metadata": {},
   "outputs": [],
   "source": [
    "# Loading data from json file in which I saved it.\n",
    "with open(\"beds.json\",\"rt\") as INFILE:\n",
    "    data = json.load(INFILE)\n",
    "jsondata = data['data']\n"
   ]
  },
  {
   "cell_type": "code",
   "execution_count": 49,
   "metadata": {},
   "outputs": [
    {
     "data": {
      "image/png": "[encoded data removed]",
      "text/plain": [
       "<Figure size 640x480 with 1 Axes>"
      ]
     },
     "metadata": {},
     "output_type": "display_data"
    }
   ],
   "source": [
    "# Here I'm going to define the DataFrame.\n",
    "# I use date as X, other data as Y.\n",
    "\n",
    "dates = [dictionary['date']for dictionary in jsondata]\n",
    "dates.sort()\n",
    "\n",
    "def parse_date(datestring):\n",
    "    return pd.to_datetime(datestring,format=\"%Y-%m-%d\")\n",
    "startDate = parse_date(dates[0])\n",
    "endDate = parse_date(dates[-1])\n",
    "\n",
    "x = pd.date_range(startDate, endDate, freq='D')\n",
    "y = pd.DataFrame(index=x, columns=['occupidedMVBeds','cases'])\n",
    "\n",
    "# Filling in the DataFrame, which is replaceing NaN data to 0.0\n",
    "for entry in jsondata: \n",
    "    date=parse_date(entry['date'])\n",
    "    for column in ['occupidedMVBeds','cases']:\n",
    "        if pd.isna(y.loc[date, column]): \n",
    "            value= float(entry[column]) if entry[column]!=None else 0.0\n",
    "            y.loc[date, column]=value\n",
    "y.fillna(0.0, inplace=True)\n",
    "y.plot()\n",
    "\n",
    "y.to_pickle('beds.pkl')"
   ]
  },
  {
   "cell_type": "markdown",
   "metadata": {},
   "source": [
    "### Get the latest data with a simple click"
   ]
  },
  {
   "cell_type": "code",
   "execution_count": 50,
   "metadata": {},
   "outputs": [
    {
     "data": {
      "application/vnd.jupyter.widget-view+json": {
       "model_id": "4dcdd4bd54db4c94a91f692f609d4ad0",
       "version_major": 2,
       "version_minor": 0
      },
      "text/plain": [
       "Button(button_style='info', description='Refresh', icon='download', style=ButtonStyle(), tooltip='Click to ref…"
      ]
     },
     "metadata": {},
     "output_type": "display_data"
    }
   ],
   "source": [
    "\n",
    "def access_api(button):\n",
    "    return jsondata\n",
    "    apibutton.icon = \"check\"\n",
    "    apibutton.disabled=True\n",
    "\n",
    "apibutton=wdg.Button(\n",
    "    description='Refresh', \n",
    "    disabled=False,\n",
    "    button_style='info', \n",
    "    tooltip=\"Click to refresh the dataset\",\n",
    "    icon='download'\n",
    ")\n",
    "\n",
    "apibutton.on_click(access_api) \n",
    "\n",
    "display(apibutton)\n",
    "\n"
   ]
  },
  {
   "cell_type": "markdown",
   "metadata": {},
   "source": [
    "### Click to select data for graph. You can select one or more than one category."
   ]
  },
  {
   "cell_type": "code",
   "execution_count": 51,
   "metadata": {},
   "outputs": [
    {
     "data": {
      "application/vnd.jupyter.widget-view+json": {
       "model_id": "32f3d185f8f24fb1ab063c4f64e640f9",
       "version_major": 2,
       "version_minor": 0
      },
      "text/plain": [
       "SelectMultiple(description='information', index=(0, 1), options=('cases', 'occupidedMVBeds'), value=('cases', …"
      ]
     },
     "metadata": {},
     "output_type": "display_data"
    },
    {
     "data": {
      "application/vnd.jupyter.widget-view+json": {
       "model_id": "5530e8a5ba544c13bfb272fb25745389",
       "version_major": 2,
       "version_minor": 0
      },
      "text/plain": [
       "Output()"
      ]
     },
     "metadata": {},
     "output_type": "display_data"
    }
   ],
   "source": [
    "info_df = pd.read_pickle('beds.pkl')\n",
    "\n",
    "infoCols = wdg.SelectMultiple(\n",
    "    options = ['cases','occupidedMVBeds'],\n",
    "    value=['cases','occupidedMVBeds'],\n",
    "    rolw=2,\n",
    "    description='information',\n",
    "    disabled=False\n",
    ")\n",
    "\n",
    "def info_graph(graphcolumns):\n",
    "    ncols=len(graphcolumns)\n",
    "    if ncols>0:\n",
    "        info_df.plot(kind='line',y=list(graphcolumns))\n",
    "        plt.show()\n",
    "    else:\n",
    "        print(\"Click to select data for graph\")\n",
    "output = wdg.interactive_output(info_graph,{'graphcolumns':infoCols})\n",
    "display(infoCols,output)"
   ]
  },
  {
   "cell_type": "markdown",
   "metadata": {},
   "source": [
    "**(C) 2022 Yitong Xie** ([yitong.xie1@outlook.com](mailto:yitong.xie1@outlook.com) - [web](https://tongdev.com/)), all rights reserved.\n",
    "Data source: Based on UK Government [data](https://coronavirus.data.gov.uk/) published by [Public Health England](https://www.gov.uk/government/organisations/public-health-england)."
   ]
  }
 ],
 "metadata": {
  "kernelspec": {
   "display_name": "Python 3 (ipykernel)",
   "language": "python",
   "name": "python3"
  },
  "language_info": {
   "codemirror_mode": {
    "name": "ipython",
    "version": 3
   },
   "file_extension": ".py",
   "mimetype": "text/x-python",
   "name": "python",
   "nbconvert_exporter": "python",
   "pygments_lexer": "ipython3",
   "version": "3.9.13"
  }
 },
 "nbformat": 4,
 "nbformat_minor": 4
}
